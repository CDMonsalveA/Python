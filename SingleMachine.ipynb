{
 "cells": [
  {
   "cell_type": "code",
   "execution_count": null,
   "metadata": {},
   "outputs": [],
   "source": []
  }
 ],
 "metadata": {
  "kernelspec": {
   "display_name": "Python 3",
   "language": "python",
   "name": "python3"
  },
  "language_info": {
   "name": "python",
   "version": "3.11.1"
  },
  "orig_nbformat": 4,
  "vscode": {
   "interpreter": {
    "hash": "d103f7ad63753ba3a793c7a4f574443769ce4a5a2e41e3828c9ef5dbd0874530"
   }
  }
 },
 "nbformat": 4,
 "nbformat_minor": 2
}
